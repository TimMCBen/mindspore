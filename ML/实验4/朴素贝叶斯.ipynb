{
 "cells": [
  {
   "cell_type": "markdown",
   "source": [
    "1.包"
   ],
   "metadata": {
    "collapsed": false
   },
   "id": "6af0db05d3f166e7"
  },
  {
   "cell_type": "code",
   "outputs": [],
   "source": [
    "from numpy import *\n",
    "from os import listdir\n"
   ],
   "metadata": {
    "collapsed": false
   },
   "id": "53067296e47f185"
  },
  {
   "cell_type": "markdown",
   "source": [],
   "metadata": {
    "collapsed": false
   },
   "id": "e290cf7fc78b834f"
  },
  {
   "cell_type": "code",
   "outputs": [],
   "source": [],
   "metadata": {
    "collapsed": false
   },
   "id": "7b0ea22e7980e45"
  },
  {
   "cell_type": "markdown",
   "source": [],
   "metadata": {
    "collapsed": false
   },
   "id": "e14c993ebb20181"
  },
  {
   "cell_type": "code",
   "outputs": [],
   "source": [],
   "metadata": {
    "collapsed": false
   },
   "id": "ca59601e52877f65"
  }
 ],
 "metadata": {
  "kernelspec": {
   "display_name": "Python 3",
   "language": "python",
   "name": "python3"
  },
  "language_info": {
   "codemirror_mode": {
    "name": "ipython",
    "version": 2
   },
   "file_extension": ".py",
   "mimetype": "text/x-python",
   "name": "python",
   "nbconvert_exporter": "python",
   "pygments_lexer": "ipython2",
   "version": "2.7.6"
  }
 },
 "nbformat": 4,
 "nbformat_minor": 5
}
