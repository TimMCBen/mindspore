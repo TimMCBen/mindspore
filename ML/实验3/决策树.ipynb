{
 "cells": [
  {
   "cell_type": "markdown",
   "source": [
    "1. 导入依赖"
   ],
   "metadata": {
    "collapsed": false
   },
   "id": "9dda69609363b7ce"
  },
  {
   "cell_type": "code",
   "outputs": [],
   "source": [
    "import pandas as pd\n",
    "import numpy as np\n",
    "from sklearn import tree\n",
    "import pydotplus #用于生成可视化的决策树\n",
    "import graphviz"
   ],
   "metadata": {
    "collapsed": false,
    "ExecuteTime": {
     "end_time": "2024-04-21T05:41:23.162821900Z",
     "start_time": "2024-04-21T05:41:19.963357600Z"
    }
   },
   "id": "90bf10e061c505e2",
   "execution_count": 1
  },
  {
   "cell_type": "markdown",
   "source": [
    "2.定义函数,生成决策树"
   ],
   "metadata": {
    "collapsed": false
   },
   "id": "ea088ffc7a830d19"
  },
  {
   "cell_type": "code",
   "outputs": [],
   "source": [
    "def createTree(trainingData):\n",
    "    data = trainingData.iloc[:, :-1] # 特征\n",
    "    labels = trainingData.iloc[:, -1] # 标签\n",
    "    \n",
    "    trainedTree = tree.DecisionTreeClassifier(criterion='entropy') # 使用信息熵作为划分标准\n",
    "    trainedTree.fit(data, labels)\n",
    "    return trainedTree"
   ],
   "metadata": {
    "collapsed": false,
    "ExecuteTime": {
     "end_time": "2024-04-21T05:41:23.174847200Z",
     "start_time": "2024-04-21T05:41:23.162821900Z"
    }
   },
   "id": "fe30ea000eddd29",
   "execution_count": 2
  },
  {
   "cell_type": "markdown",
   "source": [
    "3. 定义函数，保存生成的树图"
   ],
   "metadata": {
    "collapsed": false
   },
   "id": "82009634d9651707"
  },
  {
   "cell_type": "code",
   "outputs": [],
   "source": [
    "def showtree2pdf(trainedTree,finename):\n",
    "    dot_data = tree.export_graphviz(trainedTree, out_file=None)\n",
    "    graph = pydotplus.graph_from_dot_data(dot_data)\n",
    "    graph.write_pdf(finename)"
   ],
   "metadata": {
    "collapsed": false,
    "ExecuteTime": {
     "end_time": "2024-04-21T05:41:23.198402900Z",
     "start_time": "2024-04-21T05:41:23.179377800Z"
    }
   },
   "id": "a3324b5d44fd5d33",
   "execution_count": 3
  },
  {
   "cell_type": "markdown",
   "source": [
    "4. 定义函数，用于生成向量化的数据"
   ],
   "metadata": {
    "collapsed": false
   },
   "id": "2f18f107f3e7178f"
  },
  {
   "cell_type": "code",
   "outputs": [],
   "source": [
    "def data2vector(data):\n",
    "    names = data.columns[:-1]\n",
    "    for i in names:\n",
    "        col = pd.Categorical(data[i])\n",
    "        data[i] = col.codes\n",
    "    return data"
   ],
   "metadata": {
    "collapsed": false,
    "ExecuteTime": {
     "end_time": "2024-04-21T05:41:23.211402600Z",
     "start_time": "2024-04-21T05:41:23.195405Z"
    }
   },
   "id": "9c2f939d329602bb",
   "execution_count": 4
  },
  {
   "cell_type": "markdown",
   "source": [
    "5. 调用函数进行预测"
   ],
   "metadata": {
    "collapsed": false
   },
   "id": "47e227c562a138da"
  },
  {
   "cell_type": "code",
   "outputs": [],
   "source": [
    "data = pd.read_table(\"../dataset/tennis.txt\",header=None,sep='\\t') # 读取数据\n",
    "trainingvec=data2vector(data) # 向量化数据\n",
    "decisionTree=createTree(trainingvec) # 生成决策树\n",
    "showtree2pdf(decisionTree,\"tennis.pdf\") # 保存决策树图"
   ],
   "metadata": {
    "collapsed": false,
    "ExecuteTime": {
     "end_time": "2024-04-21T05:41:24.080036300Z",
     "start_time": "2024-04-21T05:41:23.212405500Z"
    }
   },
   "id": "3b9c7c51f7f8fb7c",
   "execution_count": 5
  },
  {
   "cell_type": "markdown",
   "source": [
    "6. 预测结果"
   ],
   "metadata": {
    "collapsed": false
   },
   "id": "ecb3315791ed53d9"
  },
  {
   "cell_type": "code",
   "outputs": [
    {
     "name": "stdout",
     "output_type": "stream",
     "text": [
      "['否']\n"
     ]
    }
   ],
   "source": [
    "testVec = [0,0,1,1]\n",
    "print(decisionTree.predict(np.array(testVec).reshape(1,-1))) # 预测"
   ],
   "metadata": {
    "collapsed": false,
    "ExecuteTime": {
     "end_time": "2024-04-21T05:41:24.106915200Z",
     "start_time": "2024-04-21T05:41:24.085183700Z"
    }
   },
   "id": "cdb1049d681b5a3a",
   "execution_count": 6
  }
 ],
 "metadata": {
  "kernelspec": {
   "display_name": "Python 3",
   "language": "python",
   "name": "python3"
  },
  "language_info": {
   "codemirror_mode": {
    "name": "ipython",
    "version": 2
   },
   "file_extension": ".py",
   "mimetype": "text/x-python",
   "name": "python",
   "nbconvert_exporter": "python",
   "pygments_lexer": "ipython2",
   "version": "2.7.6"
  }
 },
 "nbformat": 4,
 "nbformat_minor": 5
}
